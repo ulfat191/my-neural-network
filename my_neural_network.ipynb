{
 "cells": [
  {
   "cell_type": "code",
   "execution_count": 4,
   "metadata": {},
   "outputs": [],
   "source": [
    "# defining the neural network class\n",
    "\n",
    "class neuralNetwork:\n",
    "    # function for initializing neural network\n",
    "    # The \"self\" is used to represent the instance of the class. \n",
    "    # With this keyword, you can access the attributes and methods of the class in python.\n",
    "    def __init__(self, inputnodes, hiddennodes, outputnodes, learningrate):\n",
    "        # set number of nodes in each nodes\n",
    "        self.inodes = inputnodes\n",
    "        self.hnodes = hiddennodes\n",
    "        self.onodes = outputnodes\n",
    "        self.lr = learningrate\n",
    "\n",
    "        # Linking the weight matrices, wih, who\n",
    "        # wih - weight linked with input and hidden layer\n",
    "        # who = wieight linked with output and hidden layer\n",
    "        # weights inside the arrays are w_i_j, where link is from node i to node j in the next layer\n",
    "        # w11 w21 like input to hidden 1, input 2 to hidden 1.\n",
    "        # w12 w22 etc visualized in paper. \n",
    "        self.wih = (numpy.random.rand(self.hnodes, self.inodes) - 0.5)\n",
    "        self.who = (numpy.random.rand(self.onodes, self.hnodes) - 0.5)\n",
    "    \n",
    "        # updated code to initialize the weights\n",
    "        #self.wih = (numpy.random.normal(0.0, pow(self.hnodes, -0.5), (self.hnodes, self.inodes)))        \n",
    "        #self.who = (numpy.random.normal(0.0, pow(self.onodes, -0.5), (self.onodes, self.hnodes)))        \n",
    "\n",
    "        # Using the sigmoid function as the activation function\n",
    "        import scipy\n",
    "        self.activation_function = lambda x: scipy.spcial.explit()\n",
    "        #lambda is a special way of declaring functions which is anonymous(nameless) - \n",
    "        # it takes x as the input and returns the sigmoid function output using explit()\n",
    "\n",
    "        #The pass statement is used as a placeholder for future code. \n",
    "        # When the pass statement is executed, nothing happens, \n",
    "        # but you avoid getting an error when empty code is not allowed. \n",
    "        # Empty code is not allowed in loops, function definitions, class definitions, or in if statements.\n",
    "        pass\n",
    "\n",
    "    # function for training the network\n",
    "    def train():\n",
    "        pass\n",
    "\n",
    "    # function for implementing queries for the neural network\n",
    "    # takes input to a network and returns the output of the network\n",
    "    def query():\n",
    "        pass\n",
    "\n"
   ]
  },
  {
   "cell_type": "code",
   "execution_count": null,
   "metadata": {},
   "outputs": [],
   "source": [
    "# enter some small node and learning rate values for testing the network classes\n",
    "\n",
    "input_nodes = 3\n",
    "output_nodes = 3\n",
    "hidden_nodes = 3\n",
    "learning_rate = 0.3\n",
    "\n",
    "# creating instance of the neural network class\n",
    "n = neuralNetwork(input_nodes, hidden_nodes, output_nodes, learning_rate)"
   ]
  },
  {
   "cell_type": "code",
   "execution_count": 3,
   "metadata": {},
   "outputs": [
    {
     "data": {
      "text/plain": [
       "array([[0.2661878 , 0.30378083, 0.65761156],\n",
       "       [0.7498274 , 0.99460868, 0.468318  ],\n",
       "       [0.00608374, 0.89341553, 0.25866533]])"
      ]
     },
     "execution_count": 3,
     "metadata": {},
     "output_type": "execute_result"
    }
   ],
   "source": [
    "# use numpy to generate matrices of weight values.\n",
    "# at first assign very low weight values, for instance between 0 and 1. \n",
    "\n",
    "import numpy\n",
    "\n",
    "numpy.random.rand(3, 3) \n",
    "# 3*3 matirix with random numbers betwen 0 and 1 for weight values. \n",
    "# 3 nodes assigned previously so 3*3 matrix used.\n"
   ]
  },
  {
   "cell_type": "code",
   "execution_count": null,
   "metadata": {},
   "outputs": [],
   "source": [
    "\n"
   ]
  }
 ],
 "metadata": {
  "kernelspec": {
   "display_name": "Python 3.8.2 64-bit",
   "language": "python",
   "name": "python3"
  },
  "language_info": {
   "codemirror_mode": {
    "name": "ipython",
    "version": 3
   },
   "file_extension": ".py",
   "mimetype": "text/x-python",
   "name": "python",
   "nbconvert_exporter": "python",
   "pygments_lexer": "ipython3",
   "version": "3.8.2"
  },
  "orig_nbformat": 4,
  "vscode": {
   "interpreter": {
    "hash": "723d4b7bc280cd31fdada53ad6420192b9a3a8d60631096143cc718cb9440dc1"
   }
  }
 },
 "nbformat": 4,
 "nbformat_minor": 2
}
